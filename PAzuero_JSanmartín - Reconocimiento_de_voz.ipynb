{
 "cells": [
  {
   "cell_type": "markdown",
   "metadata": {},
   "source": [
    "<div style=\"background-color: #0D54D6;  padding: 50px; text-align: center;\">\n",
    "    <table style=\"width: 100%;  color: blue; font-family: Arial, sans-serif; font-size: 18px;\">\n",
    "        <tr>\n",
    "            <td colspan=\"2\" style=\"text-align: center;\"><img src=\"https://upload.wikimedia.org/wikipedia/commons/b/b0/Logo_Universidad_Polit%C3%A9cnica_Salesiana_del_Ecuador.png\" width=\"300px\" alt=\"Logo\" align=\"center\"></td>\n",
    "        </tr>\n",
    "        <tr>\n",
    "            <td colspan=\"2\" style=\"color:yellow; text-align: center; font-size: 36px; font-weight: bold; padding-top: 20px;\">Analisis Multivariado</td>\n",
    "        </tr>\n",
    "        <tr>\n",
    "            <td style=\"font-weight: bold; color: black;font-size: 26px;\">Integrantes:</td>\n",
    "            <td style=\" color: black;font-size: 20px;\">Paulina Azuero - John Sanmartín</td>\n",
    "        </tr>\n",
    "        <tr>\n",
    "            <td style=\"font-weight: bold;color:#37475a;color: yellow;font-size: 26px; \">Fecha:</td>\n",
    "            <td style=\"color:#37475a;color: yellow;font-size: 20px; \">12/05/2023</td>\n",
    "        </tr>\n",
    "        <tr>\n",
    "            <td style=\"font-weight: bold;color: black;font-size: 26px; \">Docente:</td>\n",
    "            <td style=\" color: black;font-size: 20px;\">Ing. Remigio Hurtado</td>\n",
    "        </tr>\n",
    "        <tr>\n",
    "            <td style=\"font-weight: bold;color:#37475a;color: yellow;font-size: 26px; \">Tema:</td>\n",
    "            <td style=\"color:#37475a;color: yellow;font-size: 20px; \">Reconocimiento de voz </td>\n",
    "        </tr>\n",
    "    </table>\n",
    "</div>"
   ]
  },
  {
   "cell_type": "markdown",
   "metadata": {},
   "source": [
    "<div style=\"background-color: #D6D00D;  padding: 10px; text-align: center;\">\n",
    "    <h2 style=\"font-family: Arial, sans-serif; font-size: 27px; font-weight: bold; color: #33566; text-align: left; ; text-shadow: 2px 2px 2px #ccc;\">Descrición</h2>\n",
    "</div>"
   ]
  },
  {
   "cell_type": "markdown",
   "metadata": {},
   "source": [
    "En este cuaderno se presenta un ejemplo muy sencillo en el que se trata de reconocer la voz de una persona para ello usaremos la librería SpeechRecognition."
   ]
  },
  {
   "cell_type": "markdown",
   "metadata": {},
   "source": [
    "<div style=\"background-color: #D6D00D;  padding: 10px; text-align: center;\">\n",
    "    <h2 style=\"font-family: Arial, sans-serif; font-size: 27px; font-weight: bold; color: #33566; text-align: left; ; text-shadow: 2px 2px 2px #ccc;\">Desarrollo</h2>\n",
    "</div>"
   ]
  },
  {
   "cell_type": "markdown",
   "metadata": {},
   "source": [
    "### 1. Instalación de la biblioteca SpeechRecognition. ###"
   ]
  },
  {
   "cell_type": "code",
   "execution_count": 1,
   "metadata": {},
   "outputs": [],
   "source": [
    "pip install SpeechRecognition"
   ]
  },
  {
   "cell_type": "code",
   "execution_count": 5,
   "metadata": {},
   "outputs": [],
   "source": [
    "pip install pyaudio"
   ]
  },
  {
   "cell_type": "markdown",
   "metadata": {},
   "source": [
    "### 2. Crear un objeto de reconocimiento de voz. ###"
   ]
  },
  {
   "cell_type": "code",
   "execution_count": 2,
   "metadata": {},
   "outputs": [],
   "source": [
    "import speech_recognition as sr\n",
    "\n",
    "# Crea un objeto de reconocimiento de voz\n",
    "r = sr.Recognizer()"
   ]
  },
  {
   "cell_type": "markdown",
   "metadata": {},
   "source": [
    "### 3. Habilitamos el micrófono ###"
   ]
  },
  {
   "cell_type": "code",
   "execution_count": 10,
   "metadata": {},
   "outputs": [
    {
     "name": "stdout",
     "output_type": "stream",
     "text": [
      "Di algo!\n"
     ]
    }
   ],
   "source": [
    "# Usa el micrófono como fuente de audio\n",
    "with sr.Microphone() as source:\n",
    "    print(\"Di algo!\")\n",
    "    audio = r.listen(source)"
   ]
  },
  {
   "cell_type": "markdown",
   "metadata": {},
   "source": [
    "### 3.Se presenta los resultados ###"
   ]
  },
  {
   "cell_type": "code",
   "execution_count": 11,
   "metadata": {},
   "outputs": [
    {
     "name": "stdout",
     "output_type": "stream",
     "text": [
      "Google Speech Recognition piensa que dijiste: Hola Esto es una prueba de reconocimiento de voz\n"
     ]
    }
   ],
   "source": [
    "# Intenta reconocer la voz a través de Google Speech Recognition\n",
    "try:\n",
    "    text = r.recognize_google(audio, language='es-ES')\n",
    "    print(\"Google Speech Recognition piensa que dijiste: \" + text)\n",
    "except sr.UnknownValueError:\n",
    "    print(\"Google Speech Recognition no pudo entender lo que dijiste\")\n",
    "except sr.RequestError as e:\n",
    "    print(\"No se pudo completar la solicitud a Google Speech Recognition; {0}\".format(e))"
   ]
  },
  {
   "cell_type": "markdown",
   "metadata": {},
   "source": [
    "<div style=\"background-color: #D6D00D;  padding: 10px; text-align: center;\">\n",
    "    <h2 style=\"font-family: Arial, sans-serif; font-size: 27px; font-weight: bold; color: #33566; text-align: left; ; text-shadow: 2px 2px 2px #ccc;\">Conclusión</h2>\n",
    "</div>"
   ]
  },
  {
   "cell_type": "markdown",
   "metadata": {},
   "source": [
    "Se presentó un ejemplo muy concreto acerca de reconocimiento de voz es importante contar con un lugar adecuado para probar el ejemplo ya que el ruido puede afectar en el reconocimiento de la voz.El ejemplo puede ser modificado para adaptarse a las requerimientos de quien lo necesite, recordemos que el reconocimiento de voz es una herramienta muy poderosa y tiene aplicaciones en diferentes campos como la automatización del hogar, la asistencia virtual, la atención al cliente, la salud, la educación, entre otros. La biblioteca de Python \"SpeechRecognition\" es una herramienta fácil de usar que permite a los desarrolladores de software crear aplicaciones que utilizan el reconocimiento de voz.\n",
    "\n",
    "Es importante destacar que aunque la biblioteca \"SpeechRecognition\" funciona bien en muchos casos, no siempre es perfecta y puede haber errores de reconocimiento. Por lo tanto, se recomienda realizar pruebas exhaustivas y ajustes para asegurar que la precisión del reconocimiento sea adecuada para la aplicación en cuestión."
   ]
  },
  {
   "cell_type": "markdown",
   "metadata": {},
   "source": [
    "<div style=\"background-color: #D6D00D;  padding: 10px; text-align: center;\">\n",
    "    <h2 style=\"font-family: Arial, sans-serif; font-size: 27px; font-weight: bold; color: #33566; text-align: left; ; text-shadow: 2px 2px 2px #ccc;\">Referencias</h2>\n",
    "</div>"
   ]
  },
  {
   "cell_type": "markdown",
   "metadata": {},
   "source": [
    "EFECODE. (s. f.). EFECODE.  https://efecode.com\n",
    "\n",
    "\n",
    "Python, R. (2018, marzo 21). The Ultimate Guide To Speech Recognition With Python – Real Python. Realpython.com; Real Python. https://realpython.com/python-speech-recognition/\n",
    "\n",
    "\n",
    "\n"
   ]
  }
 ],
 "metadata": {
  "kernelspec": {
   "display_name": "Python 3 (ipykernel)",
   "language": "python",
   "name": "python3"
  },
  "language_info": {
   "codemirror_mode": {
    "name": "ipython",
    "version": 3
   },
   "file_extension": ".py",
   "mimetype": "text/x-python",
   "name": "python",
   "nbconvert_exporter": "python",
   "pygments_lexer": "ipython3",
   "version": "3.9.15"
  }
 },
 "nbformat": 4,
 "nbformat_minor": 4
}
